{
 "cells": [
  {
   "cell_type": "code",
   "execution_count": 16,
   "id": "fda7ac1b",
   "metadata": {},
   "outputs": [],
   "source": [
    "import pandas as pd \n",
    "\n",
    "data = pd.read_csv('fetures_selection_heart.csv')\n",
    "X = data.drop(columns= 'target',axis=1)\n",
    "y =data['target']"
   ]
  },
  {
   "cell_type": "code",
   "execution_count": 17,
   "id": "e70836c6",
   "metadata": {},
   "outputs": [],
   "source": [
    "from sklearn.model_selection import train_test_split\n",
    "\n",
    "X_train , X_test ,y_train ,y_test =train_test_split(X,y,random_state=42,test_size=0.3)\n",
    "X_train.shape\n",
    "\n",
    "results = {}\n",
    "\n"
   ]
  },
  {
   "cell_type": "code",
   "execution_count": 18,
   "id": "96663046",
   "metadata": {},
   "outputs": [
    {
     "name": "stdout",
     "output_type": "stream",
     "text": [
      "train accuracy : {1.0}\n",
      "accuracy : {0.5274725274725275}\n",
      "[[39  3  3  3  0]\n",
      " [ 7  3  4  2  1]\n",
      " [ 2  4  3  2  1]\n",
      " [ 1  5  1  2  1]\n",
      " [ 0  1  1  1  1]]\n",
      "              precision    recall  f1-score   support\n",
      "\n",
      "           0       0.80      0.81      0.80        48\n",
      "           1       0.19      0.18      0.18        17\n",
      "           2       0.25      0.25      0.25        12\n",
      "           3       0.20      0.20      0.20        10\n",
      "           4       0.25      0.25      0.25         4\n",
      "\n",
      "    accuracy                           0.53        91\n",
      "   macro avg       0.34      0.34      0.34        91\n",
      "weighted avg       0.52      0.53      0.52        91\n",
      "\n"
     ]
    }
   ],
   "source": [
    "from sklearn.tree import DecisionTreeClassifier\n",
    "from sklearn.metrics import accuracy_score,classification_report,confusion_matrix, precision_score,f1_score,recall_score\n",
    "\n",
    "model = DecisionTreeClassifier()\n",
    "model.fit(X_train,y_train)\n",
    "y_pred = model.predict(X_test)\n",
    "y_train_pred = model.predict(X_train)\n",
    "train_acc =accuracy_score(y_train,y_train_pred)\n",
    "accuracy=accuracy_score(y_test,y_pred)\n",
    "report = classification_report(y_test,y_pred)\n",
    "con_matrix = confusion_matrix(y_test,y_pred)\n",
    "\n",
    "\n",
    "print( 'train accuracy :',{train_acc})\n",
    "print( 'accuracy :',{accuracy})\n",
    "print(con_matrix)\n",
    "print(report)\n",
    "\n",
    "\n",
    "results['DecisionTree '] ={\n",
    "    'accuracy' : accuracy,\n",
    "    'train_accuracy' : train_acc,\n",
    "    'f1_score' :f1_score(y_test , y_pred,average='micro') ,\n",
    "    'recall_score ':recall_score(y_test , y_pred,average='micro'),\n",
    "    \"presion\":precision_score(y_test, y_pred,average='micro'),\n",
    "\n",
    "    \n",
    "}\n",
    " \n"
   ]
  },
  {
   "cell_type": "code",
   "execution_count": 19,
   "id": "70082425",
   "metadata": {},
   "outputs": [
    {
     "name": "stdout",
     "output_type": "stream",
     "text": [
      "train accuracy : {0.6650943396226415}\n",
      "accuracy : {0.5274725274725275}\n",
      "[[39  3  3  3  0]\n",
      " [ 7  3  4  2  1]\n",
      " [ 2  4  3  2  1]\n",
      " [ 1  5  1  2  1]\n",
      " [ 0  1  1  1  1]]\n",
      "              precision    recall  f1-score   support\n",
      "\n",
      "           0       0.80      0.81      0.80        48\n",
      "           1       0.19      0.18      0.18        17\n",
      "           2       0.25      0.25      0.25        12\n",
      "           3       0.20      0.20      0.20        10\n",
      "           4       0.25      0.25      0.25         4\n",
      "\n",
      "    accuracy                           0.53        91\n",
      "   macro avg       0.34      0.34      0.34        91\n",
      "weighted avg       0.52      0.53      0.52        91\n",
      "\n"
     ]
    }
   ],
   "source": [
    "from sklearn.linear_model import LogisticRegression\n",
    "\n",
    "model_lr =LogisticRegression(max_iter=1000)\n",
    "model_lr.fit(X_train,y_train)\n",
    "y_pred_lr =model.predict(X_test)\n",
    "\n",
    "train_acc_lr =accuracy_score(y_train,model_lr.predict(X_train))\n",
    "accuracy_lr = accuracy_score(y_test,y_pred)\n",
    "report_lr =classification_report(y_test,y_pred)\n",
    "con_matrix_lr =confusion_matrix(y_test,y_pred)\n",
    "\n",
    "print( 'train accuracy :',{train_acc_lr})\n",
    "print( 'accuracy :',{accuracy_lr})\n",
    "print(con_matrix_lr)\n",
    "print(report_lr)\n",
    "\n",
    "\n",
    "results['LogisticReggression '] ={\n",
    "    'accuracy' : accuracy_lr,\n",
    "    'train_accuracy' : train_acc_lr,\n",
    "    'f1_score' :f1_score(y_test , y_pred,average='micro') ,\n",
    "    'recall_score ':recall_score(y_test , y_pred,average='micro'),\n",
    "    \"presion\":precision_score(y_test, y_pred,average='micro')\n",
    "    \n",
    "}\n",
    "\n"
   ]
  },
  {
   "cell_type": "code",
   "execution_count": 20,
   "id": "4c23bb4a",
   "metadata": {},
   "outputs": [
    {
     "name": "stdout",
     "output_type": "stream",
     "text": [
      "train accuracy : {0.7264150943396226}\n",
      "accuracy : {0.5934065934065934}\n",
      "[[43  2  1  2  0]\n",
      " [ 8  5  1  3  0]\n",
      " [ 3  2  3  4  0]\n",
      " [ 3  2  2  3  0]\n",
      " [ 0  0  2  2  0]]\n",
      "              precision    recall  f1-score   support\n",
      "\n",
      "           0       0.75      0.90      0.82        48\n",
      "           1       0.45      0.29      0.36        17\n",
      "           2       0.33      0.25      0.29        12\n",
      "           3       0.21      0.30      0.25        10\n",
      "           4       0.00      0.00      0.00         4\n",
      "\n",
      "    accuracy                           0.59        91\n",
      "   macro avg       0.35      0.35      0.34        91\n",
      "weighted avg       0.55      0.59      0.56        91\n",
      "\n"
     ]
    },
    {
     "name": "stderr",
     "output_type": "stream",
     "text": [
      "C:\\Users\\pp\\AppData\\Local\\Packages\\PythonSoftwareFoundation.Python.3.12_qbz5n2kfra8p0\\LocalCache\\local-packages\\Python312\\site-packages\\sklearn\\metrics\\_classification.py:1565: UndefinedMetricWarning: Precision is ill-defined and being set to 0.0 in labels with no predicted samples. Use `zero_division` parameter to control this behavior.\n",
      "  _warn_prf(average, modifier, f\"{metric.capitalize()} is\", len(result))\n",
      "C:\\Users\\pp\\AppData\\Local\\Packages\\PythonSoftwareFoundation.Python.3.12_qbz5n2kfra8p0\\LocalCache\\local-packages\\Python312\\site-packages\\sklearn\\metrics\\_classification.py:1565: UndefinedMetricWarning: Precision is ill-defined and being set to 0.0 in labels with no predicted samples. Use `zero_division` parameter to control this behavior.\n",
      "  _warn_prf(average, modifier, f\"{metric.capitalize()} is\", len(result))\n",
      "C:\\Users\\pp\\AppData\\Local\\Packages\\PythonSoftwareFoundation.Python.3.12_qbz5n2kfra8p0\\LocalCache\\local-packages\\Python312\\site-packages\\sklearn\\metrics\\_classification.py:1565: UndefinedMetricWarning: Precision is ill-defined and being set to 0.0 in labels with no predicted samples. Use `zero_division` parameter to control this behavior.\n",
      "  _warn_prf(average, modifier, f\"{metric.capitalize()} is\", len(result))\n"
     ]
    }
   ],
   "source": [
    "from sklearn.svm import SVC\n",
    "\n",
    "svm = SVC(random_state=42)\n",
    "svm.fit(X_train,y_train)\n",
    "ypred_svm =svm.predict(X_test)\n",
    "\n",
    "acc_train = accuracy_score(y_train,svm.predict(X_train))\n",
    "accuracy_svm =accuracy_score(y_test,ypred_svm)\n",
    "confusion = confusion_matrix(y_test,ypred_svm)\n",
    "rep =classification_report(y_test,ypred_svm)\n",
    "\n",
    "\n",
    "print( 'train accuracy :',{acc_train})\n",
    "print( 'accuracy :',{accuracy_svm})\n",
    "print(confusion)\n",
    "print(rep)\n",
    "\n",
    "results['SVM '] ={\n",
    "    'accuracy' : accuracy_svm,\n",
    "    'train_accuracy' : acc_train,\n",
    "    'f1_score' :f1_score(y_test , y_pred,average='micro') ,\n",
    "    'recall_score ':recall_score(y_test , y_pred,average='micro'),\n",
    "    \"presion\":precision_score(y_test, y_pred,average='micro')\n",
    "    \n",
    "}\n"
   ]
  },
  {
   "cell_type": "code",
   "execution_count": 21,
   "id": "0aff345d",
   "metadata": {},
   "outputs": [],
   "source": [
    "results_df = pd.DataFrame(results).T\n",
    "results_df.to_csv('evaluation_metrics.txt')\n"
   ]
  }
 ],
 "metadata": {
  "kernelspec": {
   "display_name": "Python 3",
   "language": "python",
   "name": "python3"
  },
  "language_info": {
   "codemirror_mode": {
    "name": "ipython",
    "version": 3
   },
   "file_extension": ".py",
   "mimetype": "text/x-python",
   "name": "python",
   "nbconvert_exporter": "python",
   "pygments_lexer": "ipython3",
   "version": "3.12.10"
  }
 },
 "nbformat": 4,
 "nbformat_minor": 5
}
